{
  "cells": [
    {
      "cell_type": "markdown",
      "source": [
        "**FOREST FIRE DETECTION USING MACHINE LEARNING**\n",
        "-----"
      ],
      "metadata": {
        "id": "CC2iKGMkSmby"
      }
    },
    {
      "cell_type": "code",
      "execution_count": null,
      "metadata": {
        "id": "73b9BmbOCSev"
      },
      "outputs": [],
      "source": [
        "# import library\n",
        "import numpy as np\n",
        "import pandas as pd\n",
        "import matplotlib.pyplot as plt\n",
        "import seaborn as sns\n",
        "from scipy.stats import zscore\n",
        "import xgboost as xgb\n",
        "from sklearn.metrics import mean_squared_error\n",
        "from sklearn.preprocessing import LabelEncoder \n",
        "from sklearn.model_selection import train_test_split\n",
        "\n",
        "\n",
        "pd.set_option('display.float_format', lambda x: '{:.4f}'.format(x)) #Limiting 4 decimal\n",
        "plt.rcParams[\"figure.figsize\"] = [9,5]\n",
        "plt.style.use('ggplot')"
      ]
    },
    {
      "cell_type": "code",
      "execution_count": null,
      "metadata": {
        "id": "1WjF0r11CM1y"
      },
      "outputs": [],
      "source": [
        "#from google.colab import drive\n",
        "#drive.mount('/content/drive')"
      ]
    },
    {
      "cell_type": "code",
      "execution_count": null,
      "metadata": {
        "id": "AqDYlIMWCORQ"
      },
      "outputs": [],
      "source": [
        "df = pd.read_csv(r'/content/Forest Fire Detection.csv')\n",
        "print(df, \"\\n\")\n",
        "data_df = df #saving pandas dataframe to new dataframe"
      ]
    },
    {
      "cell_type": "code",
      "execution_count": null,
      "metadata": {
        "id": "9R-2JF5OCkQN"
      },
      "outputs": [],
      "source": [
        "target = 'area' "
      ]
    },
    {
      "cell_type": "code",
      "execution_count": null,
      "metadata": {
        "id": "pP4taGcwCmQa",
        "colab": {
          "base_uri": "https://localhost:8080/"
        },
        "outputId": "cec55777-a4d0-4638-a6fd-8f841ee4284e"
      },
      "outputs": [
        {
          "output_type": "execute_result",
          "data": {
            "text/plain": [
              "(517, 13)"
            ]
          },
          "metadata": {},
          "execution_count": 11
        }
      ],
      "source": [
        "data_df.shape"
      ]
    },
    {
      "cell_type": "code",
      "execution_count": null,
      "metadata": {
        "id": "QTIjp_zSCniK"
      },
      "outputs": [],
      "source": [
        "dft = data_df.drop(columns=target)\n",
        "cate_columns = dft.select_dtypes(include='object').columns.tolist()\n",
        "nume_columns = dft.select_dtypes(exclude='object').columns.tolist()"
      ]
    },
    {
      "cell_type": "code",
      "execution_count": null,
      "metadata": {
        "id": "QNsfg8poCv6A",
        "colab": {
          "base_uri": "https://localhost:8080/"
        },
        "outputId": "68b24531-0e73-49c9-e4fc-0c4fcfd04245"
      },
      "outputs": [
        {
          "output_type": "stream",
          "name": "stdout",
          "text": [
            "Categorical columns:  ['month', 'day']\n",
            "Numerical columns:  ['X', 'Y', 'FFMC', 'DMC', 'DC', 'ISI', 'temp', 'RH', 'wind', 'rain']\n"
          ]
        }
      ],
      "source": [
        "print('Categorical columns: ',cate_columns) #getting the catagorical and numerical columns \n",
        "print('Numerical columns: ',nume_columns)"
      ]
    },
    {
      "cell_type": "code",
      "execution_count": null,
      "metadata": {
        "id": "vYAn_u5xCnfC"
      },
      "outputs": [],
      "source": [
        "outlier_columns = ['area','FFMC','ISI','rain'] #oulier by names "
      ]
    },
    {
      "cell_type": "code",
      "execution_count": null,
      "metadata": {
        "id": "vhwgHLVpC-8S",
        "colab": {
          "base_uri": "https://localhost:8080/"
        },
        "outputId": "29bdcb61-8c8f-480d-dbab-0655b1237511"
      },
      "outputs": [
        {
          "output_type": "execute_result",
          "data": {
            "text/plain": [
              "area     1.2178\n",
              "FFMC   -11.6754\n",
              "ISI     -0.9372\n",
              "rain    14.1730\n",
              "dtype: float64"
            ]
          },
          "metadata": {},
          "execution_count": 15
        }
      ],
      "source": [
        "np.log1p(data_df[outlier_columns]).skew() #converting the values to natural log of its value for converting outlier into normal values "
      ]
    },
    {
      "cell_type": "code",
      "execution_count": null,
      "metadata": {
        "id": "48YtBGedDAeR",
        "colab": {
          "base_uri": "https://localhost:8080/"
        },
        "outputId": "3c46ef16-97c0-45c3-f5fe-d2a18533bc26"
      },
      "outputs": [
        {
          "output_type": "execute_result",
          "data": {
            "text/plain": [
              "area     0.9457\n",
              "FFMC   185.4824\n",
              "ISI      2.5846\n",
              "rain   234.2400\n",
              "dtype: float64"
            ]
          },
          "metadata": {},
          "execution_count": 16
        }
      ],
      "source": [
        "np.log1p(data_df[outlier_columns]).kurtosis()"
      ]
    },
    {
      "cell_type": "code",
      "execution_count": null,
      "metadata": {
        "id": "AtRAV9mDCndF"
      },
      "outputs": [],
      "source": [
        "mask = data_df.loc[:,['FFMC']].apply(zscore).abs() < 3"
      ]
    },
    {
      "cell_type": "code",
      "execution_count": null,
      "metadata": {
        "id": "lmh3A7j6DDdi",
        "colab": {
          "base_uri": "https://localhost:8080/"
        },
        "outputId": "a930c601-7c35-4f34-85c8-ec944c43bba1"
      },
      "outputs": [
        {
          "output_type": "execute_result",
          "data": {
            "text/plain": [
              "(510, 13)"
            ]
          },
          "metadata": {},
          "execution_count": 18
        }
      ],
      "source": [
        "data_df = data_df[mask.values]\n",
        "data_df.shape"
      ]
    },
    {
      "cell_type": "code",
      "execution_count": null,
      "metadata": {
        "id": "YDHd7fIbDDYb",
        "colab": {
          "base_uri": "https://localhost:8080/"
        },
        "outputId": "31cf889d-4095-4c39-dfc2-cf9c4ec2c929"
      },
      "outputs": [
        {
          "output_type": "stream",
          "name": "stderr",
          "text": [
            "/usr/local/lib/python3.7/dist-packages/ipykernel_launcher.py:2: SettingWithCopyWarning: \n",
            "A value is trying to be set on a copy of a slice from a DataFrame.\n",
            "Try using .loc[row_indexer,col_indexer] = value instead\n",
            "\n",
            "See the caveats in the documentation: https://pandas.pydata.org/pandas-docs/stable/user_guide/indexing.html#returning-a-view-versus-a-copy\n",
            "  \n"
          ]
        }
      ],
      "source": [
        "# Since most of the values in rain are 0.0, we can convert it as a categorical column\n",
        "data_df['rain'] = data_df['rain'].apply(lambda x: int(x > 0.0))"
      ]
    },
    {
      "cell_type": "code",
      "execution_count": null,
      "metadata": {
        "id": "_gieKRBmDIYo",
        "colab": {
          "base_uri": "https://localhost:8080/"
        },
        "outputId": "41493dbe-14bc-441f-e815-e1a41558c52e"
      },
      "outputs": [
        {
          "output_type": "stream",
          "name": "stderr",
          "text": [
            "/usr/local/lib/python3.7/dist-packages/pandas/core/frame.py:3641: SettingWithCopyWarning: \n",
            "A value is trying to be set on a copy of a slice from a DataFrame.\n",
            "Try using .loc[row_indexer,col_indexer] = value instead\n",
            "\n",
            "See the caveats in the documentation: https://pandas.pydata.org/pandas-docs/stable/user_guide/indexing.html#returning-a-view-versus-a-copy\n",
            "  self[k1] = value[k2]\n"
          ]
        }
      ],
      "source": [
        "outlier_columns.remove('rain')\n",
        "data_df[outlier_columns] = np.log1p(data_df[outlier_columns])"
      ]
    },
    {
      "cell_type": "code",
      "execution_count": null,
      "metadata": {
        "id": "Y_Kr5emYDIc5",
        "colab": {
          "base_uri": "https://localhost:8080/"
        },
        "outputId": "0d3a7045-1903-4c0d-afd3-ebb8469bb1d0"
      },
      "outputs": [
        {
          "output_type": "execute_result",
          "data": {
            "text/plain": [
              "area    1.2085\n",
              "FFMC   -1.8040\n",
              "ISI    -0.4344\n",
              "dtype: float64"
            ]
          },
          "metadata": {},
          "execution_count": 21
        }
      ],
      "source": [
        "data_df[outlier_columns].skew()"
      ]
    },
    {
      "cell_type": "code",
      "execution_count": null,
      "metadata": {
        "id": "uH3p6MiOCnZ3",
        "colab": {
          "base_uri": "https://localhost:8080/"
        },
        "outputId": "b1dfccf3-79f3-4045-8089-b1b16efe82e1"
      },
      "outputs": [
        {
          "output_type": "execute_result",
          "data": {
            "text/plain": [
              "area   0.9234\n",
              "FFMC   4.8667\n",
              "ISI    1.1226\n",
              "dtype: float64"
            ]
          },
          "metadata": {},
          "execution_count": 22
        }
      ],
      "source": [
        "data_df[outlier_columns].kurtosis() "
      ]
    },
    {
      "cell_type": "code",
      "execution_count": null,
      "metadata": {
        "id": "VQgtUfNsDRAa",
        "colab": {
          "base_uri": "https://localhost:8080/",
          "height": 300
        },
        "outputId": "40e59f22-ab19-4279-a7ef-bbe0c7441b57"
      },
      "outputs": [
        {
          "output_type": "execute_result",
          "data": {
            "text/plain": [
              "             X        Y     FFMC      DMC       DC      ISI     temp       RH  \\\n",
              "count 510.0000 510.0000 510.0000 510.0000 510.0000 510.0000 510.0000 510.0000   \n",
              "mean    4.6804   4.2941   4.5226 111.8376 550.4704   2.2285  18.9516  44.0294   \n",
              "std     2.3205   1.2346   0.0350  63.8537 246.6307   0.4288   5.7899  15.9683   \n",
              "min     1.0000   2.0000   4.3320   3.0000   7.9000   0.7419   2.2000  15.0000   \n",
              "25%     3.0000   4.0000   4.5142  73.2500 442.3000   2.0412  15.6250  32.2500   \n",
              "50%     4.0000   4.0000   4.5288 108.4000 664.2000   2.2407  19.3000  41.5000   \n",
              "75%     7.0000   5.0000   4.5422 142.4000 714.2000   2.4849  22.8000  53.0000   \n",
              "max     9.0000   9.0000   4.5768 291.3000 860.6000   4.0448  33.3000  99.0000   \n",
              "\n",
              "          wind     rain     area  \n",
              "count 510.0000 510.0000 510.0000  \n",
              "mean    4.0173   0.0157   1.1214  \n",
              "std     1.7888   0.1244   1.4014  \n",
              "min     0.4000   0.0000   0.0000  \n",
              "25%     2.7000   0.0000   0.0000  \n",
              "50%     4.0000   0.0000   0.4572  \n",
              "75%     4.9000   0.0000   2.0252  \n",
              "max     9.4000   1.0000   6.9956  "
            ],
            "text/html": [
              "\n",
              "  <div id=\"df-8d28e985-fbcf-4c06-8171-ccb915169192\">\n",
              "    <div class=\"colab-df-container\">\n",
              "      <div>\n",
              "<style scoped>\n",
              "    .dataframe tbody tr th:only-of-type {\n",
              "        vertical-align: middle;\n",
              "    }\n",
              "\n",
              "    .dataframe tbody tr th {\n",
              "        vertical-align: top;\n",
              "    }\n",
              "\n",
              "    .dataframe thead th {\n",
              "        text-align: right;\n",
              "    }\n",
              "</style>\n",
              "<table border=\"1\" class=\"dataframe\">\n",
              "  <thead>\n",
              "    <tr style=\"text-align: right;\">\n",
              "      <th></th>\n",
              "      <th>X</th>\n",
              "      <th>Y</th>\n",
              "      <th>FFMC</th>\n",
              "      <th>DMC</th>\n",
              "      <th>DC</th>\n",
              "      <th>ISI</th>\n",
              "      <th>temp</th>\n",
              "      <th>RH</th>\n",
              "      <th>wind</th>\n",
              "      <th>rain</th>\n",
              "      <th>area</th>\n",
              "    </tr>\n",
              "  </thead>\n",
              "  <tbody>\n",
              "    <tr>\n",
              "      <th>count</th>\n",
              "      <td>510.0000</td>\n",
              "      <td>510.0000</td>\n",
              "      <td>510.0000</td>\n",
              "      <td>510.0000</td>\n",
              "      <td>510.0000</td>\n",
              "      <td>510.0000</td>\n",
              "      <td>510.0000</td>\n",
              "      <td>510.0000</td>\n",
              "      <td>510.0000</td>\n",
              "      <td>510.0000</td>\n",
              "      <td>510.0000</td>\n",
              "    </tr>\n",
              "    <tr>\n",
              "      <th>mean</th>\n",
              "      <td>4.6804</td>\n",
              "      <td>4.2941</td>\n",
              "      <td>4.5226</td>\n",
              "      <td>111.8376</td>\n",
              "      <td>550.4704</td>\n",
              "      <td>2.2285</td>\n",
              "      <td>18.9516</td>\n",
              "      <td>44.0294</td>\n",
              "      <td>4.0173</td>\n",
              "      <td>0.0157</td>\n",
              "      <td>1.1214</td>\n",
              "    </tr>\n",
              "    <tr>\n",
              "      <th>std</th>\n",
              "      <td>2.3205</td>\n",
              "      <td>1.2346</td>\n",
              "      <td>0.0350</td>\n",
              "      <td>63.8537</td>\n",
              "      <td>246.6307</td>\n",
              "      <td>0.4288</td>\n",
              "      <td>5.7899</td>\n",
              "      <td>15.9683</td>\n",
              "      <td>1.7888</td>\n",
              "      <td>0.1244</td>\n",
              "      <td>1.4014</td>\n",
              "    </tr>\n",
              "    <tr>\n",
              "      <th>min</th>\n",
              "      <td>1.0000</td>\n",
              "      <td>2.0000</td>\n",
              "      <td>4.3320</td>\n",
              "      <td>3.0000</td>\n",
              "      <td>7.9000</td>\n",
              "      <td>0.7419</td>\n",
              "      <td>2.2000</td>\n",
              "      <td>15.0000</td>\n",
              "      <td>0.4000</td>\n",
              "      <td>0.0000</td>\n",
              "      <td>0.0000</td>\n",
              "    </tr>\n",
              "    <tr>\n",
              "      <th>25%</th>\n",
              "      <td>3.0000</td>\n",
              "      <td>4.0000</td>\n",
              "      <td>4.5142</td>\n",
              "      <td>73.2500</td>\n",
              "      <td>442.3000</td>\n",
              "      <td>2.0412</td>\n",
              "      <td>15.6250</td>\n",
              "      <td>32.2500</td>\n",
              "      <td>2.7000</td>\n",
              "      <td>0.0000</td>\n",
              "      <td>0.0000</td>\n",
              "    </tr>\n",
              "    <tr>\n",
              "      <th>50%</th>\n",
              "      <td>4.0000</td>\n",
              "      <td>4.0000</td>\n",
              "      <td>4.5288</td>\n",
              "      <td>108.4000</td>\n",
              "      <td>664.2000</td>\n",
              "      <td>2.2407</td>\n",
              "      <td>19.3000</td>\n",
              "      <td>41.5000</td>\n",
              "      <td>4.0000</td>\n",
              "      <td>0.0000</td>\n",
              "      <td>0.4572</td>\n",
              "    </tr>\n",
              "    <tr>\n",
              "      <th>75%</th>\n",
              "      <td>7.0000</td>\n",
              "      <td>5.0000</td>\n",
              "      <td>4.5422</td>\n",
              "      <td>142.4000</td>\n",
              "      <td>714.2000</td>\n",
              "      <td>2.4849</td>\n",
              "      <td>22.8000</td>\n",
              "      <td>53.0000</td>\n",
              "      <td>4.9000</td>\n",
              "      <td>0.0000</td>\n",
              "      <td>2.0252</td>\n",
              "    </tr>\n",
              "    <tr>\n",
              "      <th>max</th>\n",
              "      <td>9.0000</td>\n",
              "      <td>9.0000</td>\n",
              "      <td>4.5768</td>\n",
              "      <td>291.3000</td>\n",
              "      <td>860.6000</td>\n",
              "      <td>4.0448</td>\n",
              "      <td>33.3000</td>\n",
              "      <td>99.0000</td>\n",
              "      <td>9.4000</td>\n",
              "      <td>1.0000</td>\n",
              "      <td>6.9956</td>\n",
              "    </tr>\n",
              "  </tbody>\n",
              "</table>\n",
              "</div>\n",
              "      <button class=\"colab-df-convert\" onclick=\"convertToInteractive('df-8d28e985-fbcf-4c06-8171-ccb915169192')\"\n",
              "              title=\"Convert this dataframe to an interactive table.\"\n",
              "              style=\"display:none;\">\n",
              "        \n",
              "  <svg xmlns=\"http://www.w3.org/2000/svg\" height=\"24px\"viewBox=\"0 0 24 24\"\n",
              "       width=\"24px\">\n",
              "    <path d=\"M0 0h24v24H0V0z\" fill=\"none\"/>\n",
              "    <path d=\"M18.56 5.44l.94 2.06.94-2.06 2.06-.94-2.06-.94-.94-2.06-.94 2.06-2.06.94zm-11 1L8.5 8.5l.94-2.06 2.06-.94-2.06-.94L8.5 2.5l-.94 2.06-2.06.94zm10 10l.94 2.06.94-2.06 2.06-.94-2.06-.94-.94-2.06-.94 2.06-2.06.94z\"/><path d=\"M17.41 7.96l-1.37-1.37c-.4-.4-.92-.59-1.43-.59-.52 0-1.04.2-1.43.59L10.3 9.45l-7.72 7.72c-.78.78-.78 2.05 0 2.83L4 21.41c.39.39.9.59 1.41.59.51 0 1.02-.2 1.41-.59l7.78-7.78 2.81-2.81c.8-.78.8-2.07 0-2.86zM5.41 20L4 18.59l7.72-7.72 1.47 1.35L5.41 20z\"/>\n",
              "  </svg>\n",
              "      </button>\n",
              "      \n",
              "  <style>\n",
              "    .colab-df-container {\n",
              "      display:flex;\n",
              "      flex-wrap:wrap;\n",
              "      gap: 12px;\n",
              "    }\n",
              "\n",
              "    .colab-df-convert {\n",
              "      background-color: #E8F0FE;\n",
              "      border: none;\n",
              "      border-radius: 50%;\n",
              "      cursor: pointer;\n",
              "      display: none;\n",
              "      fill: #1967D2;\n",
              "      height: 32px;\n",
              "      padding: 0 0 0 0;\n",
              "      width: 32px;\n",
              "    }\n",
              "\n",
              "    .colab-df-convert:hover {\n",
              "      background-color: #E2EBFA;\n",
              "      box-shadow: 0px 1px 2px rgba(60, 64, 67, 0.3), 0px 1px 3px 1px rgba(60, 64, 67, 0.15);\n",
              "      fill: #174EA6;\n",
              "    }\n",
              "\n",
              "    [theme=dark] .colab-df-convert {\n",
              "      background-color: #3B4455;\n",
              "      fill: #D2E3FC;\n",
              "    }\n",
              "\n",
              "    [theme=dark] .colab-df-convert:hover {\n",
              "      background-color: #434B5C;\n",
              "      box-shadow: 0px 1px 3px 1px rgba(0, 0, 0, 0.15);\n",
              "      filter: drop-shadow(0px 1px 2px rgba(0, 0, 0, 0.3));\n",
              "      fill: #FFFFFF;\n",
              "    }\n",
              "  </style>\n",
              "\n",
              "      <script>\n",
              "        const buttonEl =\n",
              "          document.querySelector('#df-8d28e985-fbcf-4c06-8171-ccb915169192 button.colab-df-convert');\n",
              "        buttonEl.style.display =\n",
              "          google.colab.kernel.accessAllowed ? 'block' : 'none';\n",
              "\n",
              "        async function convertToInteractive(key) {\n",
              "          const element = document.querySelector('#df-8d28e985-fbcf-4c06-8171-ccb915169192');\n",
              "          const dataTable =\n",
              "            await google.colab.kernel.invokeFunction('convertToInteractive',\n",
              "                                                     [key], {});\n",
              "          if (!dataTable) return;\n",
              "\n",
              "          const docLinkHtml = 'Like what you see? Visit the ' +\n",
              "            '<a target=\"_blank\" href=https://colab.research.google.com/notebooks/data_table.ipynb>data table notebook</a>'\n",
              "            + ' to learn more about interactive tables.';\n",
              "          element.innerHTML = '';\n",
              "          dataTable['output_type'] = 'display_data';\n",
              "          await google.colab.output.renderOutput(dataTable, element);\n",
              "          const docLink = document.createElement('div');\n",
              "          docLink.innerHTML = docLinkHtml;\n",
              "          element.appendChild(docLink);\n",
              "        }\n",
              "      </script>\n",
              "    </div>\n",
              "  </div>\n",
              "  "
            ]
          },
          "metadata": {},
          "execution_count": 23
        }
      ],
      "source": [
        "data_df.describe()"
      ]
    },
    {
      "cell_type": "code",
      "execution_count": null,
      "metadata": {
        "id": "JWwLN2Q8DRGI"
      },
      "outputs": [],
      "source": [
        "data_sel = data_df.copy()"
      ]
    },
    {
      "cell_type": "code",
      "execution_count": null,
      "metadata": {
        "id": "yANv73ugDY61"
      },
      "outputs": [],
      "source": [
        "le = LabelEncoder() #encoding the catagorical columns\n",
        "  \n",
        "data_sel['day']= le.fit_transform(data_sel['day']) \n",
        "data_sel['month']= le.fit_transform(data_sel['month']) "
      ]
    },
    {
      "cell_type": "code",
      "execution_count": null,
      "metadata": {
        "id": "v4Ds9ZvLDY_o"
      },
      "outputs": [],
      "source": [
        "X, y = data_sel.iloc[:,:-1],data_sel.iloc[:,-1] #puting area in y rest in X"
      ]
    },
    {
      "cell_type": "code",
      "execution_count": null,
      "metadata": {
        "id": "Ei-xkYkJDmMR"
      },
      "outputs": [],
      "source": [
        "import numpy as np\n",
        "import pandas as pd\n",
        "import seaborn as sns\n",
        "import matplotlib.pyplot as plt\n",
        "from sklearn.model_selection import train_test_split,GridSearchCV\n",
        "from sklearn.metrics import confusion_matrix, accuracy_score, f1_score, classification_report\n",
        "from sklearn import metrics\n",
        "\n",
        "\n",
        "from sklearn.model_selection import train_test_split \n",
        "from sklearn.tree import DecisionTreeClassifier\n",
        "from sklearn.metrics import classification_report, confusion_matrix\n",
        "from sklearn.tree import plot_tree"
      ]
    },
    {
      "cell_type": "code",
      "execution_count": null,
      "metadata": {
        "colab": {
          "base_uri": "https://localhost:8080/",
          "height": 424
        },
        "id": "rSy1Pp4WHkT5",
        "outputId": "2604f8fe-ec9c-4f28-a616-9b2a799a3286"
      },
      "outputs": [
        {
          "output_type": "execute_result",
          "data": {
            "text/plain": [
              "     X  Y  month  day   FFMC      DMC       DC    ISI    temp  RH   wind  \\\n",
              "0    7  5      7    0 4.4682  26.2000  94.3000 1.8083  8.2000  51 6.7000   \n",
              "1    7  4     10    5 4.5174  35.4000 669.1000 2.0412 18.0000  33 0.9000   \n",
              "2    7  4     10    2 4.5174  43.7000 686.9000 2.0412 14.6000  33 1.3000   \n",
              "3    8  6      7    0 4.5294  33.3000  77.5000 2.3026  8.3000  97 4.0000   \n",
              "4    8  6      7    3 4.5031  51.3000 102.2000 2.3609 11.4000  99 1.8000   \n",
              "..  .. ..    ...  ...    ...      ...      ...    ...     ...  ..    ...   \n",
              "512  4  3      1    3 4.4140  56.7000 665.6000 1.0647 27.8000  32 2.7000   \n",
              "513  2  4      1    3 4.4140  56.7000 665.6000 1.0647 21.9000  71 5.8000   \n",
              "514  7  4      1    3 4.4140  56.7000 665.6000 1.0647 21.2000  70 6.7000   \n",
              "515  1  4      1    2 4.5581 146.0000 614.7000 2.5096 25.6000  42 4.0000   \n",
              "516  6  3      9    5 4.3883   3.0000 106.7000 0.7419 11.8000  31 4.5000   \n",
              "\n",
              "     rain  label  \n",
              "0       0      0  \n",
              "1       0      0  \n",
              "2       0      0  \n",
              "3       1      0  \n",
              "4       0      0  \n",
              "..    ...    ...  \n",
              "512     0      0  \n",
              "513     0      1  \n",
              "514     0      0  \n",
              "515     0      0  \n",
              "516     0      0  \n",
              "\n",
              "[510 rows x 13 columns]"
            ],
            "text/html": [
              "\n",
              "  <div id=\"df-bdceb11f-bab5-42ae-b82f-a3c289e7f7f9\">\n",
              "    <div class=\"colab-df-container\">\n",
              "      <div>\n",
              "<style scoped>\n",
              "    .dataframe tbody tr th:only-of-type {\n",
              "        vertical-align: middle;\n",
              "    }\n",
              "\n",
              "    .dataframe tbody tr th {\n",
              "        vertical-align: top;\n",
              "    }\n",
              "\n",
              "    .dataframe thead th {\n",
              "        text-align: right;\n",
              "    }\n",
              "</style>\n",
              "<table border=\"1\" class=\"dataframe\">\n",
              "  <thead>\n",
              "    <tr style=\"text-align: right;\">\n",
              "      <th></th>\n",
              "      <th>X</th>\n",
              "      <th>Y</th>\n",
              "      <th>month</th>\n",
              "      <th>day</th>\n",
              "      <th>FFMC</th>\n",
              "      <th>DMC</th>\n",
              "      <th>DC</th>\n",
              "      <th>ISI</th>\n",
              "      <th>temp</th>\n",
              "      <th>RH</th>\n",
              "      <th>wind</th>\n",
              "      <th>rain</th>\n",
              "      <th>label</th>\n",
              "    </tr>\n",
              "  </thead>\n",
              "  <tbody>\n",
              "    <tr>\n",
              "      <th>0</th>\n",
              "      <td>7</td>\n",
              "      <td>5</td>\n",
              "      <td>7</td>\n",
              "      <td>0</td>\n",
              "      <td>4.4682</td>\n",
              "      <td>26.2000</td>\n",
              "      <td>94.3000</td>\n",
              "      <td>1.8083</td>\n",
              "      <td>8.2000</td>\n",
              "      <td>51</td>\n",
              "      <td>6.7000</td>\n",
              "      <td>0</td>\n",
              "      <td>0</td>\n",
              "    </tr>\n",
              "    <tr>\n",
              "      <th>1</th>\n",
              "      <td>7</td>\n",
              "      <td>4</td>\n",
              "      <td>10</td>\n",
              "      <td>5</td>\n",
              "      <td>4.5174</td>\n",
              "      <td>35.4000</td>\n",
              "      <td>669.1000</td>\n",
              "      <td>2.0412</td>\n",
              "      <td>18.0000</td>\n",
              "      <td>33</td>\n",
              "      <td>0.9000</td>\n",
              "      <td>0</td>\n",
              "      <td>0</td>\n",
              "    </tr>\n",
              "    <tr>\n",
              "      <th>2</th>\n",
              "      <td>7</td>\n",
              "      <td>4</td>\n",
              "      <td>10</td>\n",
              "      <td>2</td>\n",
              "      <td>4.5174</td>\n",
              "      <td>43.7000</td>\n",
              "      <td>686.9000</td>\n",
              "      <td>2.0412</td>\n",
              "      <td>14.6000</td>\n",
              "      <td>33</td>\n",
              "      <td>1.3000</td>\n",
              "      <td>0</td>\n",
              "      <td>0</td>\n",
              "    </tr>\n",
              "    <tr>\n",
              "      <th>3</th>\n",
              "      <td>8</td>\n",
              "      <td>6</td>\n",
              "      <td>7</td>\n",
              "      <td>0</td>\n",
              "      <td>4.5294</td>\n",
              "      <td>33.3000</td>\n",
              "      <td>77.5000</td>\n",
              "      <td>2.3026</td>\n",
              "      <td>8.3000</td>\n",
              "      <td>97</td>\n",
              "      <td>4.0000</td>\n",
              "      <td>1</td>\n",
              "      <td>0</td>\n",
              "    </tr>\n",
              "    <tr>\n",
              "      <th>4</th>\n",
              "      <td>8</td>\n",
              "      <td>6</td>\n",
              "      <td>7</td>\n",
              "      <td>3</td>\n",
              "      <td>4.5031</td>\n",
              "      <td>51.3000</td>\n",
              "      <td>102.2000</td>\n",
              "      <td>2.3609</td>\n",
              "      <td>11.4000</td>\n",
              "      <td>99</td>\n",
              "      <td>1.8000</td>\n",
              "      <td>0</td>\n",
              "      <td>0</td>\n",
              "    </tr>\n",
              "    <tr>\n",
              "      <th>...</th>\n",
              "      <td>...</td>\n",
              "      <td>...</td>\n",
              "      <td>...</td>\n",
              "      <td>...</td>\n",
              "      <td>...</td>\n",
              "      <td>...</td>\n",
              "      <td>...</td>\n",
              "      <td>...</td>\n",
              "      <td>...</td>\n",
              "      <td>...</td>\n",
              "      <td>...</td>\n",
              "      <td>...</td>\n",
              "      <td>...</td>\n",
              "    </tr>\n",
              "    <tr>\n",
              "      <th>512</th>\n",
              "      <td>4</td>\n",
              "      <td>3</td>\n",
              "      <td>1</td>\n",
              "      <td>3</td>\n",
              "      <td>4.4140</td>\n",
              "      <td>56.7000</td>\n",
              "      <td>665.6000</td>\n",
              "      <td>1.0647</td>\n",
              "      <td>27.8000</td>\n",
              "      <td>32</td>\n",
              "      <td>2.7000</td>\n",
              "      <td>0</td>\n",
              "      <td>0</td>\n",
              "    </tr>\n",
              "    <tr>\n",
              "      <th>513</th>\n",
              "      <td>2</td>\n",
              "      <td>4</td>\n",
              "      <td>1</td>\n",
              "      <td>3</td>\n",
              "      <td>4.4140</td>\n",
              "      <td>56.7000</td>\n",
              "      <td>665.6000</td>\n",
              "      <td>1.0647</td>\n",
              "      <td>21.9000</td>\n",
              "      <td>71</td>\n",
              "      <td>5.8000</td>\n",
              "      <td>0</td>\n",
              "      <td>1</td>\n",
              "    </tr>\n",
              "    <tr>\n",
              "      <th>514</th>\n",
              "      <td>7</td>\n",
              "      <td>4</td>\n",
              "      <td>1</td>\n",
              "      <td>3</td>\n",
              "      <td>4.4140</td>\n",
              "      <td>56.7000</td>\n",
              "      <td>665.6000</td>\n",
              "      <td>1.0647</td>\n",
              "      <td>21.2000</td>\n",
              "      <td>70</td>\n",
              "      <td>6.7000</td>\n",
              "      <td>0</td>\n",
              "      <td>0</td>\n",
              "    </tr>\n",
              "    <tr>\n",
              "      <th>515</th>\n",
              "      <td>1</td>\n",
              "      <td>4</td>\n",
              "      <td>1</td>\n",
              "      <td>2</td>\n",
              "      <td>4.5581</td>\n",
              "      <td>146.0000</td>\n",
              "      <td>614.7000</td>\n",
              "      <td>2.5096</td>\n",
              "      <td>25.6000</td>\n",
              "      <td>42</td>\n",
              "      <td>4.0000</td>\n",
              "      <td>0</td>\n",
              "      <td>0</td>\n",
              "    </tr>\n",
              "    <tr>\n",
              "      <th>516</th>\n",
              "      <td>6</td>\n",
              "      <td>3</td>\n",
              "      <td>9</td>\n",
              "      <td>5</td>\n",
              "      <td>4.3883</td>\n",
              "      <td>3.0000</td>\n",
              "      <td>106.7000</td>\n",
              "      <td>0.7419</td>\n",
              "      <td>11.8000</td>\n",
              "      <td>31</td>\n",
              "      <td>4.5000</td>\n",
              "      <td>0</td>\n",
              "      <td>0</td>\n",
              "    </tr>\n",
              "  </tbody>\n",
              "</table>\n",
              "<p>510 rows × 13 columns</p>\n",
              "</div>\n",
              "      <button class=\"colab-df-convert\" onclick=\"convertToInteractive('df-bdceb11f-bab5-42ae-b82f-a3c289e7f7f9')\"\n",
              "              title=\"Convert this dataframe to an interactive table.\"\n",
              "              style=\"display:none;\">\n",
              "        \n",
              "  <svg xmlns=\"http://www.w3.org/2000/svg\" height=\"24px\"viewBox=\"0 0 24 24\"\n",
              "       width=\"24px\">\n",
              "    <path d=\"M0 0h24v24H0V0z\" fill=\"none\"/>\n",
              "    <path d=\"M18.56 5.44l.94 2.06.94-2.06 2.06-.94-2.06-.94-.94-2.06-.94 2.06-2.06.94zm-11 1L8.5 8.5l.94-2.06 2.06-.94-2.06-.94L8.5 2.5l-.94 2.06-2.06.94zm10 10l.94 2.06.94-2.06 2.06-.94-2.06-.94-.94-2.06-.94 2.06-2.06.94z\"/><path d=\"M17.41 7.96l-1.37-1.37c-.4-.4-.92-.59-1.43-.59-.52 0-1.04.2-1.43.59L10.3 9.45l-7.72 7.72c-.78.78-.78 2.05 0 2.83L4 21.41c.39.39.9.59 1.41.59.51 0 1.02-.2 1.41-.59l7.78-7.78 2.81-2.81c.8-.78.8-2.07 0-2.86zM5.41 20L4 18.59l7.72-7.72 1.47 1.35L5.41 20z\"/>\n",
              "  </svg>\n",
              "      </button>\n",
              "      \n",
              "  <style>\n",
              "    .colab-df-container {\n",
              "      display:flex;\n",
              "      flex-wrap:wrap;\n",
              "      gap: 12px;\n",
              "    }\n",
              "\n",
              "    .colab-df-convert {\n",
              "      background-color: #E8F0FE;\n",
              "      border: none;\n",
              "      border-radius: 50%;\n",
              "      cursor: pointer;\n",
              "      display: none;\n",
              "      fill: #1967D2;\n",
              "      height: 32px;\n",
              "      padding: 0 0 0 0;\n",
              "      width: 32px;\n",
              "    }\n",
              "\n",
              "    .colab-df-convert:hover {\n",
              "      background-color: #E2EBFA;\n",
              "      box-shadow: 0px 1px 2px rgba(60, 64, 67, 0.3), 0px 1px 3px 1px rgba(60, 64, 67, 0.15);\n",
              "      fill: #174EA6;\n",
              "    }\n",
              "\n",
              "    [theme=dark] .colab-df-convert {\n",
              "      background-color: #3B4455;\n",
              "      fill: #D2E3FC;\n",
              "    }\n",
              "\n",
              "    [theme=dark] .colab-df-convert:hover {\n",
              "      background-color: #434B5C;\n",
              "      box-shadow: 0px 1px 3px 1px rgba(0, 0, 0, 0.15);\n",
              "      filter: drop-shadow(0px 1px 2px rgba(0, 0, 0, 0.3));\n",
              "      fill: #FFFFFF;\n",
              "    }\n",
              "  </style>\n",
              "\n",
              "      <script>\n",
              "        const buttonEl =\n",
              "          document.querySelector('#df-bdceb11f-bab5-42ae-b82f-a3c289e7f7f9 button.colab-df-convert');\n",
              "        buttonEl.style.display =\n",
              "          google.colab.kernel.accessAllowed ? 'block' : 'none';\n",
              "\n",
              "        async function convertToInteractive(key) {\n",
              "          const element = document.querySelector('#df-bdceb11f-bab5-42ae-b82f-a3c289e7f7f9');\n",
              "          const dataTable =\n",
              "            await google.colab.kernel.invokeFunction('convertToInteractive',\n",
              "                                                     [key], {});\n",
              "          if (!dataTable) return;\n",
              "\n",
              "          const docLinkHtml = 'Like what you see? Visit the ' +\n",
              "            '<a target=\"_blank\" href=https://colab.research.google.com/notebooks/data_table.ipynb>data table notebook</a>'\n",
              "            + ' to learn more about interactive tables.';\n",
              "          element.innerHTML = '';\n",
              "          dataTable['output_type'] = 'display_data';\n",
              "          await google.colab.output.renderOutput(dataTable, element);\n",
              "          const docLink = document.createElement('div');\n",
              "          docLink.innerHTML = docLinkHtml;\n",
              "          element.appendChild(docLink);\n",
              "        }\n",
              "      </script>\n",
              "    </div>\n",
              "  </div>\n",
              "  "
            ]
          },
          "metadata": {},
          "execution_count": 28
        }
      ],
      "source": [
        "data_sel\n",
        "data_sel[\"area\"] = np.where(data_sel[\"area\"] <= 3, 0, 1) \n",
        "      #classifing the area on the basis of its value to either 1 or 0 \n",
        "\n",
        "\n",
        "data_sel = data_sel.rename(columns={'area': 'label'})\n",
        "data_sel"
      ]
    },
    {
      "cell_type": "code",
      "source": [
        "X"
      ],
      "metadata": {
        "id": "NeM7ASaMsrf1"
      },
      "execution_count": null,
      "outputs": []
    },
    {
      "cell_type": "markdown",
      "source": [
        "#### Logistic Regression Classification"
      ],
      "metadata": {
        "id": "LC5G_TEEvAS5"
      }
    },
    {
      "cell_type": "code",
      "execution_count": null,
      "metadata": {
        "id": "o0_-CdhvDv9A",
        "colab": {
          "base_uri": "https://localhost:8080/"
        },
        "outputId": "5925ffc4-3b83-434f-e97c-c7e0e432a8e5"
      },
      "outputs": [
        {
          "output_type": "stream",
          "name": "stdout",
          "text": [
            "Accuracy: 0.8758169934640523\n",
            "======================================================\n",
            "Precision: 0.0\n",
            "Recall: 0.0\n",
            "======================================================\n",
            "CONFUSION MATRIX:\n",
            "[[134   0]\n",
            " [ 19   0]]\n",
            "======================================================\n",
            "              precision    recall  f1-score   support\n",
            "\n",
            "           0       0.88      1.00      0.93       134\n",
            "           1       0.00      0.00      0.00        19\n",
            "\n",
            "    accuracy                           0.88       153\n",
            "   macro avg       0.44      0.50      0.47       153\n",
            "weighted avg       0.77      0.88      0.82       153\n",
            "\n"
          ]
        }
      ],
      "source": [
        "# Logistic Regression Classification\n",
        "import pandas as pd\n",
        "from sklearn import model_selection\n",
        "from sklearn.linear_model import LogisticRegression\n",
        "from sklearn.model_selection import train_test_split\n",
        "from sklearn.preprocessing import StandardScaler\n",
        "from sklearn.model_selection import train_test_split\n",
        "import warnings\n",
        "\n",
        "warnings.filterwarnings('ignore')\n",
        "# X.drop(['label'], axis = 1)\n",
        "X = data_sel\n",
        "X = X.drop(['label'], axis = 1)\n",
        "\n",
        "y = data_sel['label']\n",
        "X_train, X_test, y_train, y_test = train_test_split(X,y,test_size=0.3,random_state=3)\n",
        "\n",
        "logmodel = LogisticRegression(solver='liblinear')\n",
        "logmodel.fit(X_train,y_train)\n",
        "\n",
        "predictions = logmodel.predict(X_test)\n",
        "\n",
        "from sklearn import metrics\n",
        "logmodel.score(X_train,y_train)\n",
        "print(\"Accuracy:\",metrics.accuracy_score(y_test, predictions))\n",
        "print(\"======================================================\")\n",
        "\n",
        "print(\"Precision:\",metrics.precision_score(y_test, predictions))\n",
        "print(\"Recall:\",metrics.recall_score(y_test, predictions))\n",
        "print(\"======================================================\")\n",
        "\n",
        "from sklearn.metrics import classification_report,confusion_matrix\n",
        "\n",
        "#print(\"CONFUSION MATRIX:\",confusion_matrix(y_test,predictions))\n",
        "print(f\"CONFUSION MATRIX:\\n{confusion_matrix(y_test,predictions)}\")\n",
        "print(\"======================================================\")\n",
        "print(classification_report(y_test,predictions))"
      ]
    },
    {
      "cell_type": "code",
      "execution_count": null,
      "metadata": {
        "id": "53jnqKNIDv6w",
        "colab": {
          "base_uri": "https://localhost:8080/"
        },
        "outputId": "7c5f8847-b506-420f-eb28-79ddbfcdf32c"
      },
      "outputs": [
        {
          "output_type": "stream",
          "name": "stdout",
          "text": [
            "SAFE\n"
          ]
        }
      ],
      "source": [
        "classes={0:'SAFE',1:'ON FIRE'}\n",
        "x_new=[[1, 4, 9 ,1 ,91.5, 130.1, 807.1, 7.5, 21.3, 35, 2.2, 1]]\n",
        "y_predict=logmodel.predict(x_new)\n",
        "print(classes[y_predict[0]])"
      ]
    },
    {
      "cell_type": "code",
      "execution_count": null,
      "metadata": {
        "id": "-_H_76phJa2I"
      },
      "outputs": [],
      "source": [
        "df = data_df"
      ]
    },
    {
      "cell_type": "code",
      "source": [
        "df.tail(45)"
      ],
      "metadata": {
        "id": "h92Z8OWltzCj"
      },
      "execution_count": null,
      "outputs": []
    },
    {
      "cell_type": "code",
      "source": [
        "X.tail(18)"
      ],
      "metadata": {
        "id": "JIbmJHMelIeX"
      },
      "execution_count": null,
      "outputs": []
    },
    {
      "cell_type": "markdown",
      "source": [
        "#### Decision Tree Classifier"
      ],
      "metadata": {
        "id": "yGybF3VnvDrh"
      }
    },
    {
      "cell_type": "code",
      "execution_count": null,
      "metadata": {
        "id": "4wHFzUyDJV7C",
        "colab": {
          "base_uri": "https://localhost:8080/"
        },
        "outputId": "fd5f0d40-f01b-44d2-e4d2-c834534fc484"
      },
      "outputs": [
        {
          "output_type": "stream",
          "name": "stdout",
          "text": [
            "              precision    recall  f1-score   support\n",
            "\n",
            "           0       0.91      0.85      0.88       137\n",
            "           1       0.17      0.25      0.20        16\n",
            "\n",
            "    accuracy                           0.79       153\n",
            "   macro avg       0.54      0.55      0.54       153\n",
            "weighted avg       0.83      0.79      0.81       153\n",
            "\n",
            "======================================================\n",
            "[[117  20]\n",
            " [ 12   4]]\n",
            "======================================================\n",
            "Accuracy: 0.7908496732026143\n",
            "Precision: 0.16666666666666666\n",
            "Recall: 0.25\n",
            "======================================================\n",
            "ON FIRE\n"
          ]
        }
      ],
      "source": [
        "# Decision Tree Classifier\n",
        "from sklearn import metrics\n",
        "from sklearn.tree import DecisionTreeClassifier\n",
        "\n",
        "X = data_sel.drop('label', axis=1)\n",
        "y = data_sel['label']\n",
        "\n",
        "X_train, X_test, y_train, y_test = train_test_split(X,y, test_size=0.3,random_state=92)\n",
        "\n",
        "d_tree = DecisionTreeClassifier()\n",
        "d_tree.fit(X_train, y_train)\n",
        "\n",
        "# make predictions\n",
        "predicted = d_tree.predict(X_test)\n",
        "\n",
        "# summarize the fit of the model\n",
        "print(metrics.classification_report(y_test, predicted))\n",
        "print(\"======================================================\")\n",
        "print(metrics.confusion_matrix(y_test, predicted))\n",
        "print(\"======================================================\")\n",
        "logi_score = metrics.accuracy_score(y_test, predicted)\n",
        "print(\"Accuracy:\",metrics.accuracy_score(y_test, predicted))\n",
        "print(\"Precision:\",metrics.precision_score(y_test, predicted))\n",
        "print(\"Recall:\",metrics.recall_score(y_test, predicted))\n",
        "print(\"======================================================\")\n",
        "classes={0:'SAFE',1:'ON FIRE'}\n",
        "x_new=[[1, 4, 9 ,1 ,91.5, 130.1, 807.1, 7.5, 21.3, 35, 2.2, 1]]\n",
        "y_predict=d_tree.predict(x_new)\n",
        "print(classes[y_predict[0]])"
      ]
    },
    {
      "cell_type": "code",
      "execution_count": null,
      "metadata": {
        "id": "sd5DjPqwSQLc",
        "colab": {
          "base_uri": "https://localhost:8080/"
        },
        "outputId": "7f13ba95-87ce-4762-fefc-c222178d6aaf"
      },
      "outputs": [
        {
          "output_type": "stream",
          "name": "stdout",
          "text": [
            "Fitting 5 folds for each of 90 candidates, totalling 450 fits\n"
          ]
        },
        {
          "output_type": "execute_result",
          "data": {
            "text/plain": [
              "GridSearchCV(cv=5, estimator=DecisionTreeClassifier(random_state=1024),\n",
              "             param_grid={'ccp_alpha': [0.1, 0.01, 0.001],\n",
              "                         'criterion': ['gini', 'entropy'],\n",
              "                         'max_depth': [5, 6, 7, 8, 9],\n",
              "                         'max_features': ['auto', 'sqrt', 'log2']},\n",
              "             verbose=True)"
            ]
          },
          "metadata": {},
          "execution_count": 36
        }
      ],
      "source": [
        "from sklearn.model_selection import GridSearchCV\n",
        "\n",
        "param_grid = {'max_features': ['auto', 'sqrt', 'log2'],\n",
        "              'ccp_alpha': [0.1, .01, .001],\n",
        "              'max_depth' : [5, 6, 7, 8, 9],\n",
        "              'criterion' :['gini', 'entropy']\n",
        "             }\n",
        "tree_clas = DecisionTreeClassifier(random_state=1024)\n",
        "grid_search = GridSearchCV(estimator=tree_clas, param_grid=param_grid, cv=5, verbose=True)\n",
        "grid_search.fit(X_train, y_train)"
      ]
    },
    {
      "cell_type": "code",
      "execution_count": null,
      "metadata": {
        "id": "BdjUumdIS-V7",
        "colab": {
          "base_uri": "https://localhost:8080/"
        },
        "outputId": "f2c5ce6d-7d23-4ae4-d1ae-74a09a4ce294"
      },
      "outputs": [
        {
          "output_type": "execute_result",
          "data": {
            "text/plain": [
              "DecisionTreeClassifier(ccp_alpha=0.1, max_depth=5, max_features='auto',\n",
              "                       random_state=1024)"
            ]
          },
          "metadata": {},
          "execution_count": 37
        }
      ],
      "source": [
        "final_model = grid_search.best_estimator_\n",
        "final_model"
      ]
    },
    {
      "cell_type": "code",
      "execution_count": null,
      "metadata": {
        "id": "0eyQ-FK7TJmz",
        "colab": {
          "base_uri": "https://localhost:8080/"
        },
        "outputId": "011fb765-4f4c-4f50-b397-1061b05b080d"
      },
      "outputs": [
        {
          "output_type": "execute_result",
          "data": {
            "text/plain": [
              "0.8767605633802816"
            ]
          },
          "metadata": {},
          "execution_count": 38
        }
      ],
      "source": [
        "tree_score = grid_search.best_score_\n",
        "tree_score"
      ]
    },
    {
      "cell_type": "code",
      "execution_count": null,
      "metadata": {
        "id": "7ezAzm2dMPsC",
        "colab": {
          "base_uri": "https://localhost:8080/"
        },
        "outputId": "f69c215a-636b-4f41-a080-7e185ef617fd"
      },
      "outputs": [
        {
          "output_type": "execute_result",
          "data": {
            "text/plain": [
              "(510, 13)"
            ]
          },
          "metadata": {},
          "execution_count": 39
        }
      ],
      "source": [
        "data_sel.shape"
      ]
    },
    {
      "cell_type": "code",
      "execution_count": null,
      "metadata": {
        "id": "bj8Nib83MT14",
        "colab": {
          "base_uri": "https://localhost:8080/"
        },
        "outputId": "696e2284-a679-4608-f937-8543d60d4320"
      },
      "outputs": [
        {
          "output_type": "execute_result",
          "data": {
            "text/plain": [
              "(510,)"
            ]
          },
          "metadata": {},
          "execution_count": 40
        }
      ],
      "source": [
        "y.shape"
      ]
    },
    {
      "cell_type": "code",
      "execution_count": null,
      "metadata": {
        "id": "xwUIwmUrJtWE",
        "colab": {
          "base_uri": "https://localhost:8080/"
        },
        "outputId": "6c672a09-3ba8-491d-d2b1-513283aeb482"
      },
      "outputs": [
        {
          "output_type": "stream",
          "name": "stdout",
          "text": [
            ": 0.533 (0.069)\n"
          ]
        }
      ],
      "source": [
        "# evaluate random forest algorithm for classification\n",
        "from numpy import mean\n",
        "from numpy import std\n",
        "from sklearn.datasets import make_classification\n",
        "from sklearn.model_selection import cross_val_score\n",
        "from sklearn.model_selection import RepeatedStratifiedKFold\n",
        "from sklearn.ensemble import RandomForestClassifier\n",
        "\n",
        "# define dataset\n",
        "daat_sel, y = make_classification(n_samples=510, n_features=13, n_informative=6, n_redundant=5, random_state=3)\n",
        "# define the model\n",
        "model = RandomForestClassifier()\n",
        "# evaluate the model\n",
        "cv = RepeatedStratifiedKFold(n_splits=10, n_repeats=3, random_state=1)\n",
        "n_scores = cross_val_score(model, X, y, scoring='accuracy', cv=cv, n_jobs=-1, error_score='raise')\n",
        "# report performance\n",
        "print(': %.3f (%.3f)' % (mean(n_scores), std(n_scores)))"
      ]
    },
    {
      "cell_type": "markdown",
      "source": [
        "###Random Forest Classifier"
      ],
      "metadata": {
        "id": "C6hemz8YvHsZ"
      }
    },
    {
      "cell_type": "code",
      "execution_count": null,
      "metadata": {
        "id": "uoWtw5aaLMuX",
        "colab": {
          "base_uri": "https://localhost:8080/"
        },
        "outputId": "3a214248-3f36-484e-9b4d-f36c38e8f397"
      },
      "outputs": [
        {
          "output_type": "stream",
          "name": "stdout",
          "text": [
            "Predicted Class: 0\n"
          ]
        }
      ],
      "source": [
        "\n",
        "from sklearn.datasets import make_classification\n",
        "from sklearn.ensemble import RandomForestClassifier\n",
        "\n",
        "model.fit(X, y)\n",
        "\n",
        "x_new=[[1, 4, 9 ,1 ,91.5, 130.1, 807.1, 7.5, 21.3, 35, 2.2, 0]]\n",
        "yhat = model.predict(x_new)\n",
        "print('Predicted Class: %d' % yhat[0])"
      ]
    },
    {
      "cell_type": "code",
      "execution_count": null,
      "metadata": {
        "id": "VaWsW74YK-Kb",
        "colab": {
          "base_uri": "https://localhost:8080/"
        },
        "outputId": "aa8e7301-cef3-4431-b97d-200b4068bfee"
      },
      "outputs": [
        {
          "output_type": "stream",
          "name": "stdout",
          "text": [
            "SAFE\n"
          ]
        }
      ],
      "source": [
        "x_new=[[1, 4, 9 ,1 ,91.5, 130.1, 807.1, 7.5, 21.3, 35, 2.2, 0]]\n",
        "y_predict=model.predict(x_new)\n",
        "print(classes[y_predict[0]])"
      ]
    },
    {
      "cell_type": "code",
      "source": [
        "from sklearn.model_selection import GridSearchCV\n",
        "\n",
        "param_grid = {\n",
        "    'bootstrap': [True],\n",
        "    'max_depth': [80, 90, 100],\n",
        "    'max_features': [2, 3],\n",
        "    'min_samples_leaf': [3, 4, 5],\n",
        "    'min_samples_split': [8, 10, 12],\n",
        "    'n_estimators': [100, 200]\n",
        "}\n",
        "\n",
        "rf = RandomForestClassifier()\n",
        "\n",
        "grid_search = GridSearchCV(estimator = rf, param_grid = param_grid, \n",
        "                          cv = 3, n_jobs = -1, verbose = 2)"
      ],
      "metadata": {
        "id": "4da96hHUig-s"
      },
      "execution_count": null,
      "outputs": []
    },
    {
      "cell_type": "code",
      "execution_count": null,
      "metadata": {
        "id": "Zg_njZhaK9_0",
        "colab": {
          "base_uri": "https://localhost:8080/"
        },
        "outputId": "101ed881-5e2f-4b76-c078-4e703d0259f4"
      },
      "outputs": [
        {
          "output_type": "stream",
          "name": "stdout",
          "text": [
            "Fitting 3 folds for each of 108 candidates, totalling 324 fits\n"
          ]
        },
        {
          "output_type": "execute_result",
          "data": {
            "text/plain": [
              "GridSearchCV(cv=3, estimator=RandomForestClassifier(), n_jobs=-1,\n",
              "             param_grid={'bootstrap': [True], 'max_depth': [80, 90, 100],\n",
              "                         'max_features': [2, 3], 'min_samples_leaf': [3, 4, 5],\n",
              "                         'min_samples_split': [8, 10, 12],\n",
              "                         'n_estimators': [100, 200]},\n",
              "             verbose=2)"
            ]
          },
          "metadata": {},
          "execution_count": 45
        }
      ],
      "source": [
        "grid_search.fit(X_train, y_train)"
      ]
    },
    {
      "cell_type": "code",
      "source": [
        "grid_search.best_params_"
      ],
      "metadata": {
        "colab": {
          "base_uri": "https://localhost:8080/"
        },
        "id": "hgbWbQ81i1R2",
        "outputId": "5f1601c6-ce24-425f-ae52-2ce308afec89"
      },
      "execution_count": null,
      "outputs": [
        {
          "output_type": "execute_result",
          "data": {
            "text/plain": [
              "{'bootstrap': True,\n",
              " 'max_depth': 80,\n",
              " 'max_features': 2,\n",
              " 'min_samples_leaf': 3,\n",
              " 'min_samples_split': 8,\n",
              " 'n_estimators': 100}"
            ]
          },
          "metadata": {},
          "execution_count": 46
        }
      ]
    },
    {
      "cell_type": "code",
      "source": [
        "forest_score = grid_search.best_score_\n",
        "forest_score"
      ],
      "metadata": {
        "colab": {
          "base_uri": "https://localhost:8080/"
        },
        "id": "vmETOuE8i1PW",
        "outputId": "cc4f9fd9-6a7b-4394-fa67-70866de61c9f"
      },
      "execution_count": null,
      "outputs": [
        {
          "output_type": "execute_result",
          "data": {
            "text/plain": [
              "0.876750700280112"
            ]
          },
          "metadata": {},
          "execution_count": 47
        }
      ]
    },
    {
      "cell_type": "code",
      "source": [
        "x_new=[[1, 4, 9 ,1 ,91.5, 130.1, 807.1, 7.5, 21.3, 35, 2.2, 1]]\n",
        "yhat = grid_search.predict(x_new)\n",
        "print('Predicted Class: %d' % yhat[0])"
      ],
      "metadata": {
        "colab": {
          "base_uri": "https://localhost:8080/"
        },
        "id": "BklWvJSIi1K6",
        "outputId": "46195d31-ec6f-4de0-c382-0d85c77d3204"
      },
      "execution_count": null,
      "outputs": [
        {
          "output_type": "stream",
          "name": "stdout",
          "text": [
            "Predicted Class: 0\n"
          ]
        }
      ]
    },
    {
      "cell_type": "markdown",
      "source": [
        "###SVM "
      ],
      "metadata": {
        "id": "oOHBnHOIvL16"
      }
    },
    {
      "cell_type": "code",
      "source": [
        "from sklearn import svm\n",
        "model_svc = svm.SVC(kernel=\"linear\")\n",
        "model_svc\n",
        "from sklearn.svm import SVC "
      ],
      "metadata": {
        "id": "qLMAgbyfjPT8"
      },
      "execution_count": null,
      "outputs": []
    },
    {
      "cell_type": "code",
      "source": [
        "param_grid = {'C': [0.1, 1, 10, 100, 1000],\n",
        "\t\t\t'gamma': [1, 0.1, 0.01, 0.001, 0.0001],\n",
        "\t\t\t'kernel': ['rbf']}\n",
        "\n",
        "grid = GridSearchCV(SVC(), param_grid, refit = True, verbose = 3)\n",
        "\n",
        "grid.fit(X_train, y_train)"
      ],
      "metadata": {
        "id": "JJYvfoBfjPPX"
      },
      "execution_count": null,
      "outputs": []
    },
    {
      "cell_type": "code",
      "source": [
        "grid.fit(X_train, y_train)"
      ],
      "metadata": {
        "id": "CLImXeS3jnmj"
      },
      "execution_count": null,
      "outputs": []
    },
    {
      "cell_type": "code",
      "source": [
        "grid.best_params_"
      ],
      "metadata": {
        "colab": {
          "base_uri": "https://localhost:8080/"
        },
        "id": "VcjudAGVjnkE",
        "outputId": "a4612801-1198-4260-bcad-037f580e8008"
      },
      "execution_count": null,
      "outputs": [
        {
          "output_type": "execute_result",
          "data": {
            "text/plain": [
              "{'C': 1, 'gamma': 1, 'kernel': 'rbf'}"
            ]
          },
          "metadata": {},
          "execution_count": 52
        }
      ]
    },
    {
      "cell_type": "code",
      "source": [
        "svm_score = grid.best_score_\n"
      ],
      "metadata": {
        "id": "eiOUFC89ju_M"
      },
      "execution_count": null,
      "outputs": []
    },
    {
      "cell_type": "code",
      "source": [
        "classes={0:'SAFE',1:'ON FIRE'}\n",
        "x_new=[[1, 4, 9 ,1 ,91.5, 130.1, 807.1, 7.5, 21.3, 35, 2.2, 1]]\n",
        "y_predict=grid_search.predict(x_new)\n",
        "print(classes[y_predict[0]])"
      ],
      "metadata": {
        "colab": {
          "base_uri": "https://localhost:8080/"
        },
        "id": "GSctrJroju8V",
        "outputId": "a5225dfa-cc32-4a79-8ab5-9ec3951d919f"
      },
      "execution_count": null,
      "outputs": [
        {
          "output_type": "stream",
          "name": "stdout",
          "text": [
            "SAFE\n"
          ]
        }
      ]
    },
    {
      "cell_type": "code",
      "source": [
        "import matplotlib.pyplot as plt\n",
        "from matplotlib.pyplot import figure\n",
        "\n",
        "x = ['LOGISTIC REG.','DT','SVM','Random Forest']\n",
        "h = [logi_score, tree_score, svm_score, forest_score]\n",
        "c = ['red','purple','green','orange']\n",
        "plt.bar(x, height = h,color = c)\n",
        "plt.xlabel(\"Algorithms\")\n",
        "plt.ylabel(\"Percentage\")\n",
        "plt.title(\"Accuracy score of each Algorithm\")\n",
        "figure(figsize=(10,8), dpi=80)\n",
        "plt.show()"
      ],
      "metadata": {
        "colab": {
          "base_uri": "https://localhost:8080/",
          "height": 371
        },
        "id": "ADJrUu9xvpB0",
        "outputId": "f6335ee3-3fef-4d17-c0f9-fb2352698ba5"
      },
      "execution_count": null,
      "outputs": [
        {
          "output_type": "display_data",
          "data": {
            "text/plain": [
              "<Figure size 648x360 with 1 Axes>"
            ],
            "image/png": "[encoded data removed]"
          },
          "metadata": {}
        },
        {
          "output_type": "display_data",
          "data": {
            "text/plain": [
              "<Figure size 800x640 with 0 Axes>"
            ]
          },
          "metadata": {}
        }
      ]
    }
  ],
  "metadata": {
    "colab": {
      "name": "FOREST FIRE DETECTION_ML.ipynb",
      "provenance": []
    },
    "kernelspec": {
      "display_name": "Python 3",
      "name": "python3"
    },
    "language_info": {
      "name": "python"
    }
  },
  "nbformat": 4,
  "nbformat_minor": 0
}